{
  "cells": [
    {
      "cell_type": "raw",
      "metadata": {
        "vscode": {
          "languageId": "raw"
        }
      },
      "source": [
        "# Image Models for Urban Analysis\n",
        "\n",
        "Computer vision and image processing are fundamental to Urban AI applications. This notebook covers various image models used for analyzing urban imagery.\n",
        "\n",
        "## What You'll Learn\n",
        "\n",
        "- **Convolutional Neural Networks (CNNs)**: Architecture and applications\n",
        "- **Vision Transformers (ViT)**: Attention-based image processing\n",
        "- **Swin Transformers**: Hierarchical vision transformers\n",
        "- **Transfer Learning**: Using pre-trained models for urban tasks\n",
        "- **Urban Image Classification**: Buildings, roads, green spaces\n",
        "- **Object Detection**: Cars, pedestrians, street furniture\n",
        "\n",
        "## Urban AI Applications\n",
        "\n",
        "- Street view analysis for walkability assessment\n",
        "- Satellite imagery for land use classification\n",
        "- Drone imagery for urban planning\n",
        "- Security camera analysis for crowd monitoring\n"
      ]
    },
    {
      "cell_type": "code",
      "execution_count": null,
      "metadata": {},
      "outputs": [],
      "source": [
        "import torch\n",
        "import torch.nn as nn\n",
        "import torchvision.transforms as transforms\n",
        "import torchvision.models as models\n",
        "import numpy as np\n",
        "import matplotlib.pyplot as plt\n",
        "from PIL import Image\n",
        "\n",
        "# Check if CUDA is available\n",
        "device = torch.device('cuda' if torch.cuda.is_available() else 'cpu')\n",
        "print(f\"Using device: {device}\")\n",
        "\n",
        "# Define a simple CNN for urban image classification\n",
        "class UrbanImageClassifier(nn.Module):\n",
        "    def __init__(self, num_classes=5):  # [building, road, vegetation, water, other]\n",
        "        super(UrbanImageClassifier, self).__init__()\n",
        "        \n",
        "        # Feature extraction layers\n",
        "        self.features = nn.Sequential(\n",
        "            nn.Conv2d(3, 64, kernel_size=3, padding=1),\n",
        "            nn.ReLU(inplace=True),\n",
        "            nn.MaxPool2d(kernel_size=2, stride=2),\n",
        "            \n",
        "            nn.Conv2d(64, 128, kernel_size=3, padding=1),\n",
        "            nn.ReLU(inplace=True),\n",
        "            nn.MaxPool2d(kernel_size=2, stride=2),\n",
        "            \n",
        "            nn.Conv2d(128, 256, kernel_size=3, padding=1),\n",
        "            nn.ReLU(inplace=True),\n",
        "            nn.MaxPool2d(kernel_size=2, stride=2),\n",
        "        )\n",
        "        \n",
        "        # Classifier layers\n",
        "        self.classifier = nn.Sequential(\n",
        "            nn.AdaptiveAvgPool2d((1, 1)),\n",
        "            nn.Flatten(),\n",
        "            nn.Linear(256, 128),\n",
        "            nn.ReLU(inplace=True),\n",
        "            nn.Dropout(0.5),\n",
        "            nn.Linear(128, num_classes)\n",
        "        )\n",
        "    \n",
        "    def forward(self, x):\n",
        "        x = self.features(x)\n",
        "        x = self.classifier(x)\n",
        "        return x\n",
        "\n",
        "# Initialize model\n",
        "model = UrbanImageClassifier(num_classes=5)\n",
        "print(\"Urban Image Classifier Architecture:\")\n",
        "print(model)\n"
      ]
    }
  ],
  "metadata": {
    "language_info": {
      "name": "python"
    }
  },
  "nbformat": 4,
  "nbformat_minor": 2
}
