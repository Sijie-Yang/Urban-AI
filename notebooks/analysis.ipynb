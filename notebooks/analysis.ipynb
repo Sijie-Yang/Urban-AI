{
  "cells": [
    {
      "cell_type": "raw",
      "metadata": {
        "vscode": {
          "languageId": "raw"
        }
      },
      "source": [
        "# 📈 Urban Data Analysis\n",
        "\n",
        "This notebook demonstrates advanced data analysis techniques for urban AI applications using pandas and visualization libraries.\n"
      ]
    },
    {
      "cell_type": "code",
      "execution_count": null,
      "metadata": {},
      "outputs": [],
      "source": [
        "import pandas as pd\n",
        "import numpy as np\n",
        "import matplotlib.pyplot as plt\n",
        "import seaborn as sns\n",
        "\n",
        "# Set style for better looking plots\n",
        "plt.style.use('seaborn-v0_8')\n",
        "sns.set_palette(\"husl\")\n",
        "\n",
        "print(\"Urban AI Data Analysis Setup Complete!\")\n"
      ]
    },
    {
      "cell_type": "raw",
      "metadata": {
        "vscode": {
          "languageId": "raw"
        }
      },
      "source": [
        "## Creating Urban Dataset\n",
        "\n",
        "Let's create a synthetic urban dataset for analysis, simulating various urban indicators.\n"
      ]
    },
    {
      "cell_type": "code",
      "execution_count": null,
      "metadata": {},
      "outputs": [],
      "source": [
        "# Create synthetic urban data\n",
        "np.random.seed(42)\n",
        "n_districts = 1000\n",
        "\n",
        "# Simulate urban districts data\n",
        "urban_data = {\n",
        "    'district_type': np.random.choice(['Residential', 'Commercial', 'Industrial', 'Mixed'], n_districts),\n",
        "    'population_density': np.random.normal(5000, 2000, n_districts),\n",
        "    'green_space_ratio': np.random.exponential(0.2, n_districts),\n",
        "    'traffic_volume': np.random.normal(1500, 500, n_districts),\n",
        "    'air_quality_index': np.random.normal(75, 25, n_districts),\n",
        "    'date_established': pd.date_range('1950-01-01', periods=n_districts, freq='30D')\n",
        "}\n",
        "\n",
        "# Create DataFrame\n",
        "df = pd.DataFrame(urban_data)\n",
        "\n",
        "# Clean data\n",
        "df['population_density'] = np.clip(df['population_density'], 100, 15000)\n",
        "df['green_space_ratio'] = np.clip(df['green_space_ratio'], 0, 1)\n",
        "df['traffic_volume'] = np.clip(df['traffic_volume'], 0, 5000)\n",
        "df['air_quality_index'] = np.clip(df['air_quality_index'], 0, 500)\n",
        "\n",
        "print(f\"Urban dataset created with {len(df)} districts\")\n",
        "df.head()\n"
      ]
    },
    {
      "cell_type": "raw",
      "metadata": {
        "vscode": {
          "languageId": "raw"
        }
      },
      "source": [
        "## Statistical Analysis\n"
      ]
    },
    {
      "cell_type": "code",
      "execution_count": null,
      "metadata": {},
      "outputs": [],
      "source": [
        "# Urban data statistics\n",
        "print(\"=== Urban Dataset Statistics ===\")\n",
        "print(f\"Dataset shape: {df.shape}\")\n",
        "print(f\"\\nDistrict types distribution:\")\n",
        "print(df['district_type'].value_counts())\n",
        "print(f\"\\nBasic statistics:\")\n",
        "df.describe()\n"
      ]
    },
    {
      "cell_type": "raw",
      "metadata": {
        "vscode": {
          "languageId": "raw"
        }
      },
      "source": [
        "## Urban Data Visualizations\n"
      ]
    },
    {
      "cell_type": "code",
      "execution_count": null,
      "metadata": {},
      "outputs": [],
      "source": [
        "# Create comprehensive urban analysis visualizations\n",
        "fig, axes = plt.subplots(2, 2, figsize=(15, 12))\n",
        "\n",
        "# 1. District type distribution\n",
        "df['district_type'].value_counts().plot(kind='bar', ax=axes[0,0], color='skyblue')\n",
        "axes[0,0].set_title('🏙️ District Type Distribution')\n",
        "axes[0,0].set_ylabel('Number of Districts')\n",
        "axes[0,0].tick_params(axis='x', rotation=45)\n",
        "\n",
        "# 2. Population density distribution\n",
        "axes[0,1].hist(df['population_density'], bins=30, alpha=0.7, color='lightgreen')\n",
        "axes[0,1].set_title('👥 Population Density Distribution')\n",
        "axes[0,1].set_xlabel('Population Density (per km²)')\n",
        "axes[0,1].set_ylabel('Frequency')\n",
        "\n",
        "# 3. Green space vs Air quality by district type\n",
        "for i, district in enumerate(df['district_type'].unique()):\n",
        "    district_data = df[df['district_type'] == district]\n",
        "    axes[1,0].scatter(district_data['green_space_ratio'], district_data['air_quality_index'], \n",
        "                     alpha=0.6, label=district, s=30)\n",
        "axes[1,0].set_xlabel('Green Space Ratio')\n",
        "axes[1,0].set_ylabel('Air Quality Index')\n",
        "axes[1,0].set_title('🌿 Green Space vs Air Quality by District Type')\n",
        "axes[1,0].legend()\n",
        "\n",
        "# 4. Traffic volume vs Population density\n",
        "axes[1,1].scatter(df['population_density'], df['traffic_volume'], \n",
        "                 alpha=0.5, c=df['air_quality_index'], cmap='RdYlBu_r', s=20)\n",
        "axes[1,1].set_xlabel('Population Density')\n",
        "axes[1,1].set_ylabel('Traffic Volume')\n",
        "axes[1,1].set_title('🚗 Traffic vs Population (colored by Air Quality)')\n",
        "plt.colorbar(axes[1,1].collections[0], ax=axes[1,1], label='Air Quality Index')\n",
        "\n",
        "plt.tight_layout()\n",
        "plt.show()\n"
      ]
    },
    {
      "cell_type": "raw",
      "metadata": {
        "vscode": {
          "languageId": "raw"
        }
      },
      "source": [
        "## Urban AI Insights\n",
        "\n",
        "This comprehensive urban analysis reveals:\n",
        "\n",
        "### Key Findings:\n",
        "- **District Diversity**: Analysis of different urban district types and their characteristics\n",
        "- **Population Patterns**: Understanding population density distributions across urban areas\n",
        "- **Environmental Correlations**: Relationship between green spaces and air quality\n",
        "- **Traffic Analysis**: How population density affects traffic patterns\n",
        "\n",
        "### Applications for Urban AI:\n",
        "- **Smart City Planning**: Data-driven urban development decisions\n",
        "- **Environmental Monitoring**: Air quality prediction and management\n",
        "- **Traffic Optimization**: Intelligent transportation systems\n",
        "- **Sustainable Development**: Balancing growth with environmental concerns\n",
        "\n",
        "This analysis framework can be extended for real urban datasets and AI model development!\n"
      ]
    },
    {
      "cell_type": "markdown",
      "metadata": {},
      "source": [
        "# 📈 Data Analysis Example\n",
        "\n",
        "This notebook demonstrates data analysis techniques using pandas and matplotlib.\n"
      ]
    },
    {
      "cell_type": "code",
      "execution_count": null,
      "metadata": {},
      "outputs": [],
      "source": [
        "import pandas as pd\n",
        "import numpy as np\n",
        "import matplotlib.pyplot as plt\n",
        "import seaborn as sns\n",
        "\n",
        "# Set style for better looking plots\n",
        "plt.style.use('seaborn-v0_8')\n",
        "sns.set_palette(\"husl\")\n"
      ]
    },
    {
      "cell_type": "markdown",
      "metadata": {},
      "source": [
        "## Creating Sample Dataset\n",
        "\n",
        "Let's create a sample dataset for analysis.\n"
      ]
    },
    {
      "cell_type": "code",
      "execution_count": null,
      "metadata": {},
      "outputs": [],
      "source": [
        "# Create sample data\n",
        "np.random.seed(42)\n",
        "n_samples = 1000\n",
        "\n",
        "data = {\n",
        "    'category': np.random.choice(['A', 'B', 'C', 'D'], n_samples),\n",
        "    'value1': np.random.normal(50, 15, n_samples),\n",
        "    'value2': np.random.exponential(2, n_samples),\n",
        "    'date': pd.date_range('2023-01-01', periods=n_samples, freq='D')\n",
        "}\n",
        "\n",
        "df = pd.DataFrame(data)\n",
        "df.head()\n"
      ]
    },
    {
      "cell_type": "markdown",
      "metadata": {},
      "source": [
        "## Basic Statistics\n"
      ]
    },
    {
      "cell_type": "code",
      "execution_count": null,
      "metadata": {},
      "outputs": [],
      "source": [
        "# Display basic statistics\n",
        "print(\"Dataset shape:\", df.shape)\n",
        "print(\"\\nBasic statistics:\")\n",
        "df.describe()\n"
      ]
    },
    {
      "cell_type": "markdown",
      "metadata": {},
      "source": [
        "## Visualizations\n"
      ]
    },
    {
      "cell_type": "code",
      "execution_count": null,
      "metadata": {},
      "outputs": [],
      "source": [
        "# Create subplots\n",
        "fig, axes = plt.subplots(2, 2, figsize=(12, 10))\n",
        "\n",
        "# Distribution of categories\n",
        "df['category'].value_counts().plot(kind='bar', ax=axes[0,0])\n",
        "axes[0,0].set_title('Category Distribution')\n",
        "axes[0,0].set_ylabel('Count')\n",
        "\n",
        "# Histogram of value1\n",
        "axes[0,1].hist(df['value1'], bins=30, alpha=0.7)\n",
        "axes[0,1].set_title('Distribution of Value1')\n",
        "axes[0,1].set_xlabel('Value1')\n",
        "axes[0,1].set_ylabel('Frequency')\n",
        "\n",
        "# Box plot by category\n",
        "df.boxplot(column='value1', by='category', ax=axes[1,0])\n",
        "axes[1,0].set_title('Value1 by Category')\n",
        "\n",
        "# Scatter plot\n",
        "axes[1,1].scatter(df['value1'], df['value2'], alpha=0.5)\n",
        "axes[1,1].set_xlabel('Value1')\n",
        "axes[1,1].set_ylabel('Value2')\n",
        "axes[1,1].set_title('Value1 vs Value2')\n",
        "\n",
        "plt.tight_layout()\n",
        "plt.show()\n"
      ]
    },
    {
      "cell_type": "markdown",
      "metadata": {},
      "source": [
        "## Conclusion\n",
        "\n",
        "This analysis showed:\n",
        "- Basic data exploration techniques\n",
        "- Statistical summaries\n",
        "- Various visualization methods\n",
        "\n",
        "You can use this as a template for your own data analysis notebooks!\n"
      ]
    }
  ],
  "metadata": {
    "language_info": {
      "name": "python"
    }
  },
  "nbformat": 4,
  "nbformat_minor": 2
}
