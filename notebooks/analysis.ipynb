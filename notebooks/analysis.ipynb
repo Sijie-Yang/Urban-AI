{
  "cells": [
    {
      "cell_type": "raw",
      "metadata": {
        "vscode": {
          "languageId": "raw"
        }
      },
      "source": [
        "# 📈 Data Analysis Example\n",
        "\n",
        "This notebook demonstrates data analysis techniques using pandas and matplotlib.\n"
      ]
    },
    {
      "cell_type": "code",
      "execution_count": null,
      "metadata": {},
      "outputs": [],
      "source": [
        "import pandas as pd\n",
        "import numpy as np\n",
        "import matplotlib.pyplot as plt\n",
        "import seaborn as sns\n",
        "\n",
        "# Set style for better looking plots\n",
        "plt.style.use('seaborn-v0_8')\n",
        "sns.set_palette(\"husl\")\n"
      ]
    },
    {
      "cell_type": "raw",
      "metadata": {
        "vscode": {
          "languageId": "raw"
        }
      },
      "source": [
        "## Creating Sample Dataset\n",
        "\n",
        "Let's create a sample dataset for analysis.\n"
      ]
    },
    {
      "cell_type": "code",
      "execution_count": null,
      "metadata": {},
      "outputs": [],
      "source": [
        "# Create sample data\n",
        "np.random.seed(42)\n",
        "n_samples = 1000\n",
        "\n",
        "data = {\n",
        "    'category': np.random.choice(['A', 'B', 'C', 'D'], n_samples),\n",
        "    'value1': np.random.normal(50, 15, n_samples),\n",
        "    'value2': np.random.exponential(2, n_samples),\n",
        "    'date': pd.date_range('2023-01-01', periods=n_samples, freq='D')\n",
        "}\n",
        "\n",
        "df = pd.DataFrame(data)\n",
        "df.head()\n"
      ]
    },
    {
      "cell_type": "raw",
      "metadata": {
        "vscode": {
          "languageId": "raw"
        }
      },
      "source": [
        "## Basic Statistics\n"
      ]
    },
    {
      "cell_type": "code",
      "execution_count": null,
      "metadata": {},
      "outputs": [],
      "source": [
        "# Display basic statistics\n",
        "print(\"Dataset shape:\", df.shape)\n",
        "print(\"\\nBasic statistics:\")\n",
        "df.describe()\n"
      ]
    },
    {
      "cell_type": "raw",
      "metadata": {
        "vscode": {
          "languageId": "raw"
        }
      },
      "source": [
        "## Visualizations\n"
      ]
    },
    {
      "cell_type": "code",
      "execution_count": null,
      "metadata": {},
      "outputs": [],
      "source": [
        "# Create subplots\n",
        "fig, axes = plt.subplots(2, 2, figsize=(12, 10))\n",
        "\n",
        "# Distribution of categories\n",
        "df['category'].value_counts().plot(kind='bar', ax=axes[0,0])\n",
        "axes[0,0].set_title('Category Distribution')\n",
        "axes[0,0].set_ylabel('Count')\n",
        "\n",
        "# Histogram of value1\n",
        "axes[0,1].hist(df['value1'], bins=30, alpha=0.7)\n",
        "axes[0,1].set_title('Distribution of Value1')\n",
        "axes[0,1].set_xlabel('Value1')\n",
        "axes[0,1].set_ylabel('Frequency')\n",
        "\n",
        "# Box plot by category\n",
        "df.boxplot(column='value1', by='category', ax=axes[1,0])\n",
        "axes[1,0].set_title('Value1 by Category')\n",
        "\n",
        "# Scatter plot\n",
        "axes[1,1].scatter(df['value1'], df['value2'], alpha=0.5)\n",
        "axes[1,1].set_xlabel('Value1')\n",
        "axes[1,1].set_ylabel('Value2')\n",
        "axes[1,1].set_title('Value1 vs Value2')\n",
        "\n",
        "plt.tight_layout()\n",
        "plt.show()\n"
      ]
    },
    {
      "cell_type": "raw",
      "metadata": {
        "vscode": {
          "languageId": "raw"
        }
      },
      "source": [
        "## Conclusion\n",
        "\n",
        "This analysis showed:\n",
        "- Basic data exploration techniques\n",
        "- Statistical summaries\n",
        "- Various visualization methods\n",
        "\n",
        "You can use this as a template for your own data analysis notebooks!\n"
      ]
    }
  ],
  "metadata": {
    "language_info": {
      "name": "python"
    }
  },
  "nbformat": 4,
  "nbformat_minor": 2
}
