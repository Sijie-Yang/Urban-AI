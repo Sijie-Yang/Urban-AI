{
  "cells": [
    {
      "cell_type": "markdown",
      "metadata": {
      },
      "source": [
        "# GIS Software for Urban AI\n",
        "\n",
        "Geographic Information Systems (GIS) are essential tools for Urban AI applications. This notebook covers key GIS software and their integration with AI workflows.\n",
        "\n",
        "## What You'll Learn\n",
        "\n",
        "- **QGIS**: Open-source desktop GIS software\n",
        "- **ArcGIS**: Commercial GIS platform and Python API\n",
        "- **Kepler.gl**: Web-based geospatial visualization\n",
        "- **PostGIS**: Spatial database extensions\n",
        "- **Python GIS Stack**: GeoPandas, Rasterio, Fiona integration\n",
        "\n",
        "## GIS Operations\n",
        "\n",
        "- Spatial data visualization and styling\n",
        "- Geoprocessing and spatial analysis\n",
        "- Map production and cartography\n",
        "- Spatial database management\n",
        "- Web mapping and services\n"
      ]
    },
    {
      "cell_type": "code",
      "execution_count": null,
      "metadata": {},
      "outputs": [],
      "source": [
        "import geopandas as gpd\n",
        "import folium\n",
        "from folium import plugins\n",
        "import requests\n",
        "import json\n",
        "\n",
        "# Example: Creating an interactive map with Folium (Kepler.gl alternative)\n",
        "# Sample urban data\n",
        "singapore_bounds = {\n",
        "    'north': 1.48,\n",
        "    'south': 1.20,\n",
        "    'east': 104.1,\n",
        "    'west': 103.6\n",
        "}\n",
        "\n",
        "# Create base map centered on Singapore\n",
        "center_lat = (singapore_bounds['north'] + singapore_bounds['south']) / 2\n",
        "center_lon = (singapore_bounds['east'] + singapore_bounds['west']) / 2\n",
        "\n",
        "# Initialize map\n",
        "urban_map = folium.Map(\n",
        "    location=[center_lat, center_lon],\n",
        "    zoom_start=11,\n",
        "    tiles='OpenStreetMap'\n",
        ")\n",
        "\n",
        "# Add different tile layers\n",
        "folium.TileLayer(\n",
        "    tiles='CartoDB positron',\n",
        "    name='CartoDB Positron',\n",
        "    attr='CartoDB'\n",
        ").add_to(urban_map)\n",
        "\n",
        "folium.TileLayer(\n",
        "    tiles='CartoDB dark_matter', \n",
        "    name='CartoDB Dark',\n",
        "    attr='CartoDB'\n",
        ").add_to(urban_map)\n",
        "\n",
        "# Add layer control\n",
        "folium.LayerControl().add_to(urban_map)\n",
        "\n",
        "print(\"GIS Software Integration Example\")\n",
        "print(\"===============================\")\n",
        "print(\"Created interactive map with multiple tile layers\")\n",
        "print(f\"Map center: {center_lat:.4f}, {center_lon:.4f}\")\n",
        "\n",
        "# Display map (would show in Jupyter notebook)\n",
        "# urban_map\n"
      ]
    }
  ],
  "metadata": {
    "language_info": {
      "name": "python"
    }
  },
  "nbformat": 4,
  "nbformat_minor": 2
}
