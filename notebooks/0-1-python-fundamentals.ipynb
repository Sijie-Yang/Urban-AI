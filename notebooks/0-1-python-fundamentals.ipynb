{
  "cells": [
    {
      "cell_type": "markdown",
      "metadata": {
      },
      "source": [
        "# Python Fundamentals\n",
        "\n",
        "This notebook covers the fundamental concepts of Python programming essential for Urban AI applications.\n",
        "\n",
        "## Learning Objectives\n",
        "\n",
        "By the end of this notebook, you will understand:\n",
        "- Python data types and variables\n",
        "- Control structures (if/else, loops)\n",
        "- Functions and classes\n",
        "- Error handling\n",
        "- Best practices for Urban AI development\n",
        "\n",
        "## Prerequisites\n",
        "\n",
        "- Basic understanding of programming concepts\n",
        "- Python 3.8+ installed\n",
        "- Jupyter notebook environment\n"
      ]
    },
    {
      "cell_type": "code",
      "execution_count": null,
      "metadata": {},
      "outputs": [],
      "source": [
        "# Python basics for Urban AI\n",
        "print(\"Welcome to Urban AI - Python Fundamentals!\")\n",
        "\n",
        "# Variables and data types\n",
        "city_name = \"Singapore\"\n",
        "population = 5850000\n",
        "density = 7804  # people per km²\n",
        "is_smart_city = True\n",
        "\n",
        "print(f\"City: {city_name}\")\n",
        "print(f\"Population: {population:,}\")\n",
        "print(f\"Density: {density} people/km²\")\n",
        "print(f\"Smart city status: {is_smart_city}\")\n"
      ]
    }
  ],
  "metadata": {
    "language_info": {
      "name": "python"
    }
  },
  "nbformat": 4,
  "nbformat_minor": 2
}
