{
  "cells": [
    {
      "cell_type": "raw",
      "metadata": {
        "vscode": {
          "languageId": "raw"
        }
      },
      "source": [
        "# 📊 Example Notebook\n",
        "\n",
        "This is an example Jupyter notebook that demonstrates basic functionality.\n",
        "\n",
        "## Introduction\n",
        "\n",
        "In this notebook, we'll show some basic Python code and visualizations.\n"
      ]
    },
    {
      "cell_type": "code",
      "execution_count": null,
      "metadata": {},
      "outputs": [],
      "source": [
        "import numpy as np\n",
        "import matplotlib.pyplot as plt\n",
        "import pandas as pd\n",
        "\n",
        "print(\"Hello, Urban AI!\")\n"
      ]
    },
    {
      "cell_type": "raw",
      "metadata": {
        "vscode": {
          "languageId": "raw"
        }
      },
      "source": [
        "## Creating Some Data\n",
        "\n",
        "Let's create some sample data and visualize it.\n"
      ]
    },
    {
      "cell_type": "code",
      "execution_count": null,
      "metadata": {},
      "outputs": [],
      "source": [
        "# Generate sample data for urban analysis\n",
        "x = np.linspace(0, 10, 100)\n",
        "y = np.sin(x) + np.random.normal(0, 0.1, 100)\n",
        "\n",
        "# Create a plot\n",
        "plt.figure(figsize=(10, 6))\n",
        "plt.plot(x, y, 'b-', alpha=0.7, label='Urban pattern (noisy)')\n",
        "plt.plot(x, np.sin(x), 'r--', label='Ideal pattern')\n",
        "plt.xlabel('Distance (km)')\n",
        "plt.ylabel('Urban Density')\n",
        "plt.title('Urban AI Analysis Example')\n",
        "plt.legend()\n",
        "plt.grid(True, alpha=0.3)\n",
        "plt.show()\n"
      ]
    },
    {
      "cell_type": "raw",
      "metadata": {
        "vscode": {
          "languageId": "raw"
        }
      },
      "source": [
        "## Summary\n",
        "\n",
        "This notebook demonstrated:\n",
        "- Basic Python libraries for urban analysis\n",
        "- Data visualization techniques\n",
        "- Urban pattern analysis\n",
        "\n",
        "This serves as a foundation for Urban AI applications!\n"
      ]
    },
    {
      "cell_type": "markdown",
      "metadata": {},
      "source": [
        "# 📊 Example Notebook\n",
        "\n",
        "This is an example Jupyter notebook that demonstrates basic functionality.\n",
        "\n",
        "## Introduction\n",
        "\n",
        "In this notebook, we'll show some basic Python code and visualizations.\n"
      ]
    },
    {
      "cell_type": "code",
      "execution_count": null,
      "metadata": {},
      "outputs": [],
      "source": [
        "import numpy as np\n",
        "import matplotlib.pyplot as plt\n",
        "import pandas as pd\n",
        "\n",
        "print(\"Hello, Jupyter Book!\")\n"
      ]
    },
    {
      "cell_type": "markdown",
      "metadata": {},
      "source": [
        "## Creating Some Data\n",
        "\n",
        "Let's create some sample data and visualize it.\n"
      ]
    },
    {
      "cell_type": "code",
      "execution_count": null,
      "metadata": {},
      "outputs": [],
      "source": [
        "# Generate sample data\n",
        "x = np.linspace(0, 10, 100)\n",
        "y = np.sin(x) + np.random.normal(0, 0.1, 100)\n",
        "\n",
        "# Create a plot\n",
        "plt.figure(figsize=(8, 6))\n",
        "plt.plot(x, y, 'b-', alpha=0.7, label='Noisy sine wave')\n",
        "plt.plot(x, np.sin(x), 'r--', label='Pure sine wave')\n",
        "plt.xlabel('x')\n",
        "plt.ylabel('y')\n",
        "plt.title('Example Plot')\n",
        "plt.legend()\n",
        "plt.grid(True, alpha=0.3)\n",
        "plt.show()\n"
      ]
    },
    {
      "cell_type": "markdown",
      "metadata": {},
      "source": [
        "## Summary\n",
        "\n",
        "This notebook showed how to:\n",
        "- Import common libraries\n",
        "- Create sample data\n",
        "- Make a simple plot\n",
        "\n",
        "You can replace this content with your own analysis!\n"
      ]
    }
  ],
  "metadata": {
    "kernelspec": {
      "display_name": "base",
      "language": "python",
      "name": "python3"
    },
    "language_info": {
      "codemirror_mode": {
        "name": "ipython",
        "version": 3
      },
      "file_extension": ".py",
      "mimetype": "text/x-python",
      "name": "python",
      "nbconvert_exporter": "python",
      "pygments_lexer": "ipython3",
      "version": "3.11.5"
    }
  },
  "nbformat": 4,
  "nbformat_minor": 2
}
