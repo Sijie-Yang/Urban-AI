{
 "cells": [
  {
   "cell_type": "markdown",
   "id": "49a9b8ba",
   "metadata": {},
   "source": [
    "# Prerequisite Knowledge\n",
    "\n",
    "## Mathematical Foundations\n",
    "\n",
    "Before diving into deep learning, let's review the essential mathematical concepts.\n",
    "\n",
    "## Key Topics\n",
    "\n",
    "- Linear Algebra\n",
    "- Calculus\n",
    "- Probability and Statistics\n",
    "- Optimization\n",
    "\n",
    "## Python Libraries\n",
    "\n",
    "We'll be using:\n",
    "- NumPy for numerical computing\n",
    "- Matplotlib for visualization\n",
    "- PyTorch for deep learning\n",
    "\n",
    "## Prerequisites Checklist\n",
    "\n",
    "- [ ] Basic Python programming\n",
    "- [ ] Understanding of matrices and vectors\n",
    "- [ ] Basic calculus concepts\n",
    "- [ ] Probability distributions\n"
   ]
  },
  {
   "cell_type": "markdown",
   "id": "0f2c10d5",
   "metadata": {},
   "source": [
    "# 预备知识\n"
   ]
  }
 ],
 "metadata": {
  "language_info": {
   "name": "python"
  }
 },
 "nbformat": 4,
 "nbformat_minor": 5
}
