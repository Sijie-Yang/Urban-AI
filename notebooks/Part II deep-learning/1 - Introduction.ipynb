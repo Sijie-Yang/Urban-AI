{
 "cells": [
  {
   "cell_type": "markdown",
   "id": "8ca5f928",
   "metadata": {},
   "source": [
    "# Introduction to Deep Learning\n",
    "\n",
    "## Welcome to Deep Learning\n",
    "\n",
    "This chapter introduces the fundamental concepts of deep learning that will be applied to urban AI applications.\n",
    "\n",
    "## What You'll Learn\n",
    "\n",
    "- Basic concepts of neural networks\n",
    "- Deep learning frameworks\n",
    "- Applications in urban computing\n",
    "- Mathematical foundations\n",
    "\n",
    "## Getting Started\n",
    "\n",
    "Let's begin our journey into deep learning for urban AI!\n"
   ]
  },
  {
   "cell_type": "markdown",
   "id": "6fa49f32",
   "metadata": {},
   "source": [
    "# 引言 \n"
   ]
  }
 ],
 "metadata": {
  "language_info": {
   "name": "python"
  }
 },
 "nbformat": 4,
 "nbformat_minor": 5
}
