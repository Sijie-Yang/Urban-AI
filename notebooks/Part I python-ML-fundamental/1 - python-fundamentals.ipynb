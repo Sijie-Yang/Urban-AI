{
  "cells": [
    {
      "cell_type": "markdown",
      "metadata": {},
      "source": [
        "# Python Fundamentals\n",
        "\n",
        "This notebook covers the fundamental concepts of Python programming essential for Urban AI applications.\n",
        "\n",
        "## Learning Objectives\n",
        "\n",
        "By the end of this notebook, you will understand:\n",
        "- Python data types and variables\n",
        "- Control structures (if/else, loops)\n",
        "- Functions and classes\n",
        "- Error handling\n",
        "- Best practices for Urban AI development\n",
        "\n",
        "## Prerequisites\n",
        "\n",
        "- Basic understanding of programming concepts\n",
        "- Python 3.8+ installed\n",
        "- Jupyter notebook environment\n"
      ]
    },
    {
      "cell_type": "code",
      "execution_count": 1,
      "metadata": {},
      "outputs": [
        {
          "name": "stdout",
          "output_type": "stream",
          "text": [
            "Welcome to Urban AI - Python Fundamentals!\n",
            "City: Singapore\n",
            "Population: 5,850,000\n",
            "Density: 7804 people/km²\n",
            "Smart city status: True\n"
          ]
        }
      ],
      "source": [
        "# Python basics for Urban AI\n",
        "print(\"Welcome to Urban AI - Python Fundamentals!\")\n",
        "\n",
        "# Variables and data types\n",
        "city_name = \"Singapore\"\n",
        "population = 5850000\n",
        "density = 7804  # people per km²\n",
        "is_smart_city = True\n",
        "\n",
        "print(f\"City: {city_name}\")\n",
        "print(f\"Population: {population:,}\")\n",
        "print(f\"Density: {density} people/km²\")\n",
        "print(f\"Smart city status: {is_smart_city}\")"
      ]
    }
  ],
  "metadata": {
    "kernelspec": {
      "display_name": "base",
      "language": "python",
      "name": "python3"
    },
    "language_info": {
      "codemirror_mode": {
        "name": "ipython",
        "version": 3
      },
      "file_extension": ".py",
      "mimetype": "text/x-python",
      "name": "python",
      "nbconvert_exporter": "python",
      "pygments_lexer": "ipython3",
      "version": "3.11.5"
    }
  },
  "nbformat": 4,
  "nbformat_minor": 2
}
