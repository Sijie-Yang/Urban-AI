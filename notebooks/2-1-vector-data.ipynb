{
  "cells": [
    {
      "cell_type": "markdown",
      "metadata": {
      },
      "source": [
        "# Vector Data: OSM and GeoJSON\n",
        "\n",
        "Vector data represents geographic features using points, lines, and polygons. In Urban AI, we extensively use vector data from OpenStreetMap (OSM) and GeoJSON formats.\n",
        "\n",
        "## What You'll Learn\n",
        "\n",
        "- Understanding vector data formats (GeoJSON, Shapefile, KML)\n",
        "- Working with OpenStreetMap data\n",
        "- Spatial operations: buffering, intersection, union\n",
        "- Coordinate reference systems and projections\n",
        "- Data quality assessment and cleaning\n",
        "\n",
        "## Key Libraries\n",
        "\n",
        "- **GeoPandas**: For vector data manipulation\n",
        "- **Shapely**: For geometric operations\n",
        "- **Fiona**: For reading/writing spatial data formats\n",
        "- **OSMnx**: For downloading OSM data\n",
        "- **Folium**: For interactive mapping\n"
      ]
    },
    {
      "cell_type": "code",
      "execution_count": null,
      "metadata": {},
      "outputs": [],
      "source": [
        "import geopandas as gpd\n",
        "import pandas as pd\n",
        "from shapely.geometry import Point, Polygon\n",
        "import folium\n",
        "import numpy as np\n",
        "\n",
        "# Create sample urban features\n",
        "np.random.seed(42)\n",
        "\n",
        "# Sample city center coordinates (Singapore)\n",
        "center_lat, center_lon = 1.3521, 103.8198\n",
        "\n",
        "# Generate random points around city center\n",
        "n_points = 100\n",
        "lat_points = center_lat + np.random.normal(0, 0.05, n_points)\n",
        "lon_points = center_lon + np.random.normal(0, 0.05, n_points)\n",
        "\n",
        "# Create GeoDataFrame with urban features\n",
        "urban_features = gpd.GeoDataFrame({\n",
        "    'id': range(n_points),\n",
        "    'type': np.random.choice(['commercial', 'residential', 'industrial', 'park'], n_points),\n",
        "    'area': np.random.exponential(1000, n_points),  # area in m²\n",
        "    'geometry': [Point(lon, lat) for lon, lat in zip(lon_points, lat_points)]\n",
        "})\n",
        "\n",
        "# Set coordinate reference system\n",
        "urban_features = urban_features.set_crs('EPSG:4326')\n",
        "\n",
        "print(\"Urban Vector Data Sample\")\n",
        "print(\"=======================\")\n",
        "print(f\"Total features: {len(urban_features)}\")\n",
        "print(f\"Feature types: {urban_features['type'].value_counts().to_dict()}\")\n",
        "print(\"\\nFirst few features:\")\n",
        "print(urban_features.head())\n"
      ]
    }
  ],
  "metadata": {
    "language_info": {
      "name": "python"
    }
  },
  "nbformat": 4,
  "nbformat_minor": 2
}
